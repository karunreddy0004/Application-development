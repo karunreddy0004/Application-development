{
 "cells": [
  {
   "cell_type": "code",
   "execution_count": 1,
   "metadata": {},
   "outputs": [],
   "source": [
    "import requests\n",
    "from bs4 import BeautifulSoup\n",
    "url = \"http://quotes.toscrape.com/\"\n",
    "# Send a GET request\n",
    "response = requests.get(url)"
   ]
  },
  {
   "cell_type": "code",
   "execution_count": null,
   "metadata": {},
   "outputs": [],
   "source": [
    "!pip install "
   ]
  },
  {
   "cell_type": "code",
   "execution_count": 4,
   "metadata": {},
   "outputs": [
    {
     "name": "stdout",
     "output_type": "stream",
     "text": [
      "1. \"“The world as we have created it is a process of our thinking. It cannot be changed without changing our thinking.”\" - Albert Einstein\n",
      "   Tags: change, deep-thoughts, thinking, world\n",
      "\n",
      "2. \"“It is our choices, Harry, that show what we truly are, far more than our abilities.”\" - J.K. Rowling\n",
      "   Tags: abilities, choices\n",
      "\n",
      "3. \"“There are only two ways to live your life. One is as though nothing is a miracle. The other is as though everything is a miracle.”\" - Albert Einstein\n",
      "   Tags: inspirational, life, live, miracle, miracles\n",
      "\n",
      "4. \"“The person, be it gentleman or lady, who has not pleasure in a good novel, must be intolerably stupid.”\" - Jane Austen\n",
      "   Tags: aliteracy, books, classic, humor\n",
      "\n",
      "5. \"“Imperfection is beauty, madness is genius and it's better to be absolutely ridiculous than absolutely boring.”\" - Marilyn Monroe\n",
      "   Tags: be-yourself, inspirational\n",
      "\n"
     ]
    }
   ],
   "source": [
    "# Chck if the request was successful\n",
    "if response.status_code == 200:\n",
    "    # Parse the HTML\n",
    "    soup = BeautifulSoup(response.text, 'html.parser')\n",
    " # Find all quote containers\n",
    "    quotes = soup.find_all(\"div\", class_=\"quote\")\n",
    "    # Loop through each quote and extract data\n",
    "    for i, quote in enumerate(quotes[:5]):  # Get first 5 quotes\n",
    "        text = quote.find(\"span\", class_=\"text\").text  # Quote text\n",
    "        author = quote.find(\"small\", class_=\"author\").text  # Author name\n",
    "        tags = [tag.text for tag in quote.find_all(\"a\", class_=\"tag\")]  # List of tags\n",
    "        print(f\"{i+1}. \\\"{text}\\\" - {author}\")\n",
    "        print(f\"   Tags: {', '.join(tags)}\\n\")\n",
    "else:\n",
    "    print(f\"Failed to retrieve the webpage. Status Code: {response.status_code}\")"
   ]
  },
  {
   "cell_type": "code",
   "execution_count": 6,
   "metadata": {},
   "outputs": [
    {
     "name": "stdout",
     "output_type": "stream",
     "text": [
      "Current Weather in New York: 30 °C | Clear.\n"
     ]
    }
   ],
   "source": [
    "import requests\n",
    "from bs4 import BeautifulSoup\n",
    "# Define the city (e.g., New York)\n",
    "city = \"india/hyderabad\" \n",
    "# Weather URL\n",
    "url = f\"https://www.timeanddate.com/weather/{city}\"\n",
    "# Send GET request\n",
    "response = requests.get(url)\n",
    "soup = BeautifulSoup(response.text, 'html.parser')\n",
    "# Extract temperature and description\n",
    "temp = soup.find(\"div\", class_=\"h2\").text.strip() if soup.find(\"div\", class_=\"h2\") else \"N/A\"\n",
    "desc = soup.find(\"p\").text.strip() if soup.find(\"p\") else \"N/A\"\n",
    "print(f\"Current Weather in New York: {temp} | {desc}\")"
   ]
  },
  {
   "cell_type": "code",
   "execution_count": 27,
   "metadata": {},
   "outputs": [
    {
     "name": "stdout",
     "output_type": "stream",
     "text": [
      "Could not find product details.\n"
     ]
    }
   ],
   "source": [
    "import requests\n",
    "from bs4 import BeautifulSoup\n",
    "# Product search URL (Example: iPhone)\n",
    "search_url = \"https://www.amazon.in/Ambrane-Wireless-10000mAh-Charging-Magnetic&th=1\"\n",
    "headers = {\n",
    "    \"User-Agent\": \"Mozilla/5.0 (Windows NT 10.0; Win64; x64) AppleWebKit/537.36 (KHTML, like Gecko) Chrome/133.0.6943.98 Safari/537.36\"\n",
    "}\n",
    "# Send GET request\n",
    "response = requests.get(search_url, headers=headers)\n",
    "soup = BeautifulSoup(response.text, \"html.parser\")\n",
    "# Extract first product name & price\n",
    "\n",
    "product = soup.select_one(\"span .a-size-large\")\n",
    "price = soup.select_one(\"span.a-price-whole\")\n",
    "# Display product details\n",
    "if product and price:\n",
    "    print(f\"Product: {product.text.strip()}\")\n",
    "    print(f\"Price: Rs.{price.text.strip()}\")\n",
    "else:\n",
    "    print(\"Could not find product details.\")"
   ]
  },
  {
   "cell_type": "code",
   "execution_count": 16,
   "metadata": {},
   "outputs": [
    {
     "name": "stdout",
     "output_type": "stream",
     "text": [
      "World: 8,119,000,000\n",
      "China: 1,408,280,000\n",
      "1,402,737,000: 17.2%\n",
      "United States: 340,110,988\n",
      "Indonesia: 282,477,584\n"
     ]
    }
   ],
   "source": [
    "import requests\n",
    "from bs4 import BeautifulSoup\n",
    "# Wikipedia page URL\n",
    "url = \"https://en.wikipedia.org/wiki/List_of_countries_and_dependencies_by_population\"\n",
    "# Send GET request\n",
    "response = requests.get(url,headers=headers)\n",
    "soup = BeautifulSoup(response.text, \"html.parser\")\n",
    "# Find the table\n",
    "table = soup.find(\"table\", class_=\"wikitable\")\n",
    "# Extract the first 5 countries and their population\n",
    "for row in table.find_all(\"tr\")[1:6]:  # Skip the header row\n",
    "    columns = row.find_all(\"td\")\n",
    "    country = columns[1].text.strip()\n",
    "    population = columns[2].text.strip()\n",
    "    print(f\"{country}: {population}\")"
   ]
  },
  {
   "cell_type": "code",
   "execution_count": 22,
   "metadata": {},
   "outputs": [
    {
     "name": "stdout",
     "output_type": "stream",
     "text": [
      "Current Weather in Hyderabad: 31 °C | Clear.\n"
     ]
    }
   ],
   "source": [
    "import requests\n",
    "from bs4 import BeautifulSoup\n",
    "# Define the city (e.g., New York\n",
    "city = \"india/hyderabad\"\n",
    "# Weather URL\n",
    "url = f\"https://www.timeanddate.com/weather/{city}\"\n",
    "# Send GET request\n",
    "response = requests.get(url)\n",
    "soup = BeautifulSoup(response.text, 'html.parser')\n",
    "# Extract temperature and description\n",
    "temp = soup.find(\"div\", class_=\"h2\").text.strip() if soup.find(\"div\", class_=\"h2\") else \"N/A\"\n",
    "desc = soup.find(\"p\").text.strip() if soup.find(\"p\") else \"N/A\"\n",
    "print(f\"Current Weather in Hyderabad: {temp} | {desc}\")"
   ]
  },
  {
   "cell_type": "code",
   "execution_count": 23,
   "metadata": {},
   "outputs": [],
   "source": [
    "import requests\n",
    "from bs4 import BeautifulSoup\n",
    "# Product search URL (Example: iPhone)\n",
    "search_url = \"https://www.amazon.in/s?k=iphone&crid=PQVCJSNISAH4&sprefix=iphone%2Caps%2C233&ref=nb_sb_noss_2\"\n",
    "# Headers (Mimic a browser)\n",
    "headers = {\n",
    "    \"User-Agent\": \"Mozilla/5.0 (Windows NT 10.0; Win64; x64) AppleWebKit/537.36 (KHTML, like Gecko) Chrome/91.0.4472.124 Safari/537.36\"\n",
    "}"
   ]
  },
  {
   "cell_type": "code",
   "execution_count": 24,
   "metadata": {},
   "outputs": [],
   "source": [
    "# Check if the request was successful\n",
    "if response.status_code == 200:\n",
    "    # Parse the HTML\n",
    "    soup = BeautifulSoup(response.text, 'html.parser')\n",
    "    # Find all quote container\n",
    "    quotes = soup.find_all(\"div\", class_=\"quote\")\n",
    "    # Loop through each quote and extract dat\n",
    "    for i, quote in enumerate(quotes[:5]):  # Get first 5 quotes\n",
    "        text = quote.find(\"span\", class_=\"text\").text  # Quote text\n",
    "        author = quote.find(\"small\", class_=\"author\").text  # Author nam\n",
    "        tags = [tag.text for tag in quote.find_all(\"a\", class_=\"tag\")]  # List of tags\n",
    "        \n",
    "        print(f\"{i+1}. \\\"{text}\\\" - {author}\")\n",
    "        print(f\"   Tags: {', '.join(tags)}\\n\")\n",
    "else:\n",
    "    print(f\"Failed to retrieve the webpage. Status Code: {response.status_code}\")"
   ]
  },
  {
   "cell_type": "code",
   "execution_count": 25,
   "metadata": {},
   "outputs": [
    {
     "name": "stdout",
     "output_type": "stream",
     "text": [
      "Current Weather in Hyderabad: 31 °C | Clear.\n"
     ]
    }
   ],
   "source": [
    "import requests\n",
    "from bs4 import BeautifulSoup\n",
    "# Define the city (e.g., New York)\n",
    "city = \"india/hyderabad\"\n",
    "# Weather URL\n",
    "url = f\"https://www.timeanddate.com/weather/{city}\"\n",
    "# Send GET request\n",
    "response = requests.get(url)\n",
    "soup = BeautifulSoup(response.text, 'html.parser')\n",
    "\n",
    "# Extract temperature and description\n",
    "temp = soup.find(\"div\", class_=\"h2\").text.strip() if soup.find(\"div\", class_=\"h2\") else \"N/A\"\n",
    "desc = soup.find(\"p\").text.strip() if soup.find(\"p\") else \"N/A\" \n",
    "print(f\"Current Weather in Hyderabad: {temp} | {desc}\")"
   ]
  },
  {
   "cell_type": "code",
   "execution_count": 26,
   "metadata": {},
   "outputs": [
    {
     "data": {
      "text/html": [
       "<table>\n",
       "  <tr>\n",
       "    <th>Company</th>\n",
       "    <th>Contact</th>\n",
       "    <th>Country</th>\n",
       "  </tr>\n",
       "  <tr>\n",
       "    <td>Alfreds Futterkiste</td>\n",
       "    <td>Maria Anders</td>\n",
       "    <td>Germany</td>\n",
       "  </tr>\n",
       "  <tr>\n",
       "    <td>Centro comercial Moctezuma</td>\n",
       "    <td>Francisco Chang</td>\n",
       "    <td>Mexico</td>\n",
       "  </tr>\n",
       "</table>\n"
      ],
      "text/plain": [
       "<IPython.core.display.HTML object>"
      ]
     },
     "metadata": {},
     "output_type": "display_data"
    }
   ],
   "source": [
    "from IPython.display import display, HTML\n",
    "display(HTML(\"\"\"<table>\n",
    "  <tr>\n",
    "    <th>Company</th>\n",
    "    <th>Contact</th>\n",
    "    <th>Country</th>\n",
    "  </tr>\n",
    "  <tr>\n",
    "    <td>Alfreds Futterkiste</td>\n",
    "    <td>Maria Anders</td>\n",
    "    <td>Germany</td>\n",
    "  </tr>\n",
    "  <tr>\n",
    "    <td>Centro comercial Moctezuma</td>\n",
    "    <td>Francisco Chang</td>\n",
    "    <td>Mexico</td>\n",
    "  </tr>\n",
    "</table>\n",
    "\"\"\"))"
   ]
  },
  {
   "cell_type": "code",
   "execution_count": null,
   "metadata": {},
   "outputs": [],
   "source": []
  }
 ],
 "metadata": {
  "kernelspec": {
   "display_name": "Python 3",
   "language": "python",
   "name": "python3"
  },
  "language_info": {
   "codemirror_mode": {
    "name": "ipython",
    "version": 3
   },
   "file_extension": ".py",
   "mimetype": "text/x-python",
   "name": "python",
   "nbconvert_exporter": "python",
   "pygments_lexer": "ipython3",
   "version": "3.8.5"
  }
 },
 "nbformat": 4,
 "nbformat_minor": 4
}
