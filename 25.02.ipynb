{
 "cells": [
  {
   "cell_type": "code",
   "execution_count": 1,
   "id": "1006eeba-e1c2-4f7f-94ae-30cf18e5c96d",
   "metadata": {},
   "outputs": [
    {
     "name": "stdout",
     "output_type": "stream",
     "text": [
      "Requirement already satisfied: gTTs in c:\\users\\karun\\anaconda3\\lib\\site-packages (2.5.4)\n",
      "Requirement already satisfied: requests<3,>=2.27 in c:\\users\\karun\\anaconda3\\lib\\site-packages (from gTTs) (2.32.3)\n",
      "Requirement already satisfied: click<8.2,>=7.1 in c:\\users\\karun\\anaconda3\\lib\\site-packages (from gTTs) (8.1.7)\n",
      "Requirement already satisfied: colorama in c:\\users\\karun\\anaconda3\\lib\\site-packages (from click<8.2,>=7.1->gTTs) (0.4.6)\n",
      "Requirement already satisfied: charset-normalizer<4,>=2 in c:\\users\\karun\\anaconda3\\lib\\site-packages (from requests<3,>=2.27->gTTs) (3.3.2)\n",
      "Requirement already satisfied: idna<4,>=2.5 in c:\\users\\karun\\anaconda3\\lib\\site-packages (from requests<3,>=2.27->gTTs) (3.7)\n",
      "Requirement already satisfied: urllib3<3,>=1.21.1 in c:\\users\\karun\\anaconda3\\lib\\site-packages (from requests<3,>=2.27->gTTs) (2.2.3)\n",
      "Requirement already satisfied: certifi>=2017.4.17 in c:\\users\\karun\\anaconda3\\lib\\site-packages (from requests<3,>=2.27->gTTs) (2024.8.30)\n"
     ]
    }
   ],
   "source": [
    "!pip install gTTs --user"
   ]
  },
  {
   "cell_type": "code",
   "execution_count": 2,
   "id": "611013b3-e4d2-4ff6-96fa-d754dd9cbca1",
   "metadata": {},
   "outputs": [],
   "source": [
    "from gtts import gTTS"
   ]
  },
  {
   "cell_type": "code",
   "execution_count": 3,
   "id": "806deb04-bc6f-47a9-ba22-5232aee93fb7",
   "metadata": {},
   "outputs": [
    {
     "name": "stdout",
     "output_type": "stream",
     "text": [
      "Requirement already satisfied: pyttsx3 in c:\\users\\karun\\anaconda3\\lib\\site-packages (2.98)\n",
      "Requirement already satisfied: comtypes in c:\\users\\karun\\anaconda3\\lib\\site-packages (from pyttsx3) (1.4.10)\n",
      "Requirement already satisfied: pypiwin32 in c:\\users\\karun\\anaconda3\\lib\\site-packages (from pyttsx3) (223)\n",
      "Requirement already satisfied: pywin32 in c:\\users\\karun\\anaconda3\\lib\\site-packages (from pyttsx3) (305.1)\n"
     ]
    }
   ],
   "source": [
    "!pip3 install pyttsx3"
   ]
  },
  {
   "cell_type": "code",
   "execution_count": 4,
   "id": "ab9efa1a-5bd6-4a88-99a3-333bf49badc9",
   "metadata": {},
   "outputs": [],
   "source": [
    "import pyttsx3, time \n",
    "engine = pyttsx3.init() \n",
    "engine.say(\"Hi, This is karun to be an entreprinue\") \n",
    "engine.runAndWait()\n"
   ]
  },
  {
   "cell_type": "code",
   "execution_count": 5,
   "id": "fe3fb9fe-34ff-41aa-bc68-98e6b589a8c2",
   "metadata": {},
   "outputs": [],
   "source": [
    "from gtts import gTTS"
   ]
  },
  {
   "cell_type": "code",
   "execution_count": 6,
   "id": "ed32d050-7990-4673-b354-809242fcd481",
   "metadata": {},
   "outputs": [],
   "source": [
    "#chooses the language, English('en')\n",
    "convert = gTTS(text='I like this NLP. How about dude!', lang=\"en\", slow=False)\n",
    "# Saving the converted audio in a mp3 file named\n",
    "convert.save(\"audio.mp3\")"
   ]
  },
  {
   "cell_type": "code",
   "execution_count": 7,
   "id": "46e8fe96-9779-4c87-9744-e48a0ad14f0d",
   "metadata": {},
   "outputs": [],
   "source": [
    "text=['This is introduction to NLP','It is likely to be useful, to people ',\\\n",
    "      'Machine learning is the new electrcity','There would be less hype around AI and more action going forward',\\\n",
    "      'python is the best tool!','R is good langauage','I like this book',\\\n",
    "      'I want more books like this']"
   ]
  },
  {
   "cell_type": "code",
   "execution_count": 8,
   "id": "d5ebb9ae-1c36-4fe9-8d1f-2ecf2b8446de",
   "metadata": {},
   "outputs": [],
   "source": [
    "engine = pyttsx3.init() \n",
    "engine.say(text) \n",
    "engine.runAndWait()"
   ]
  },
  {
   "cell_type": "code",
   "execution_count": null,
   "id": "8b7a2d62-dc9b-481a-8921-7b6b1158f371",
   "metadata": {},
   "outputs": [
    {
     "name": "stdout",
     "output_type": "stream",
     "text": [
      "200\n",
      "1.0\n"
     ]
    }
   ],
   "source": [
    "import pyttsx3\n",
    "\n",
    "engine = pyttsx3.init() # object creation\n",
    "\"\"\" RATE\"\"\"\n",
    "rate = engine.getProperty('rate')   # getting details of current speaking rate\n",
    "print (rate)                        #printing current voice rate\n",
    "engine.setProperty('rate', 180)     # setting up new voice rate\n",
    "\"\"\"VOLUME\"\"\"\n",
    "volume = engine.getProperty('volume')   #getting to know current volume level (min=0 and max=1)\n",
    "print (volume)                          #printing current volume level\n",
    "engine.setProperty('volume',1.0)    # setting up volume level  between 0 and 1\n",
    "\"\"\"VOICE\"\"\"\n",
    "voices = engine.getProperty('voices')       #getting details of current voice\n",
    "#engine.setProperty('voice', voices[0].id)  #changing index, changes voices. o for male\n",
    "engine.setProperty('voice', voices[1].id)   #changing index, changes voices. 1 for female\n",
    "engine.say(\"Hello World!\")\n",
    "engine.say('My current speaking rate is ' + str(rate))\n",
    "engine.say('My current speaking volume is ' + str(volume))\n",
    "engine.runAndWait()\n",
    "engine.stop()"
   ]
  },
  {
   "cell_type": "code",
   "execution_count": 1,
   "id": "94d98f81-ee20-4284-b0ae-91c3ea4a8616",
   "metadata": {},
   "outputs": [
    {
     "name": "stdout",
     "output_type": "stream",
     "text": [
      "Collecting translate\n",
      "  Downloading translate-3.6.1-py2.py3-none-any.whl.metadata (7.7 kB)\n",
      "Requirement already satisfied: click in c:\\users\\karun\\anaconda3\\lib\\site-packages (from translate) (8.1.7)\n",
      "Requirement already satisfied: lxml in c:\\users\\karun\\anaconda3\\lib\\site-packages (from translate) (5.2.1)\n",
      "Requirement already satisfied: requests in c:\\users\\karun\\anaconda3\\lib\\site-packages (from translate) (2.32.3)\n",
      "Collecting libretranslatepy==2.1.1 (from translate)\n",
      "  Downloading libretranslatepy-2.1.1-py3-none-any.whl.metadata (233 bytes)\n",
      "Requirement already satisfied: colorama in c:\\users\\karun\\anaconda3\\lib\\site-packages (from click->translate) (0.4.6)\n",
      "Requirement already satisfied: charset-normalizer<4,>=2 in c:\\users\\karun\\anaconda3\\lib\\site-packages (from requests->translate) (3.3.2)\n",
      "Requirement already satisfied: idna<4,>=2.5 in c:\\users\\karun\\anaconda3\\lib\\site-packages (from requests->translate) (3.7)\n",
      "Requirement already satisfied: urllib3<3,>=1.21.1 in c:\\users\\karun\\anaconda3\\lib\\site-packages (from requests->translate) (2.2.3)\n",
      "Requirement already satisfied: certifi>=2017.4.17 in c:\\users\\karun\\anaconda3\\lib\\site-packages (from requests->translate) (2024.8.30)\n",
      "Downloading translate-3.6.1-py2.py3-none-any.whl (12 kB)\n",
      "Downloading libretranslatepy-2.1.1-py3-none-any.whl (3.2 kB)\n",
      "Installing collected packages: libretranslatepy, translate\n",
      "Successfully installed libretranslatepy-2.1.1 translate-3.6.1\n"
     ]
    }
   ],
   "source": [
    "!pip install translate"
   ]
  },
  {
   "cell_type": "code",
   "execution_count": 2,
   "id": "18b0fc7e-defe-429f-8787-9939a47fc5ad",
   "metadata": {},
   "outputs": [
    {
     "data": {
      "text/plain": [
       "'ಇದು ಪೆನ್ ಆಗಿದೆ.'"
      ]
     },
     "execution_count": 2,
     "metadata": {},
     "output_type": "execute_result"
    }
   ],
   "source": [
    "# traslating text to chinese\n",
    "from translate import Translator\n",
    "translator= Translator(to_lang=\"kn\") # to kannada language\n",
    "translation = translator.translate(\"This is a pen.\")\n",
    "translation"
   ]
  },
  {
   "cell_type": "code",
   "execution_count": 9,
   "id": "9564c87b-4a9a-4034-ab94-ed87bdc10033",
   "metadata": {},
   "outputs": [
    {
     "data": {
      "text/plain": [
       "'كلانتان '"
      ]
     },
     "execution_count": 9,
     "metadata": {},
     "output_type": "execute_result"
    }
   ],
   "source": [
    "# # traslating text to telugu\n",
    "from translate import Translator\n",
    "translator= Translator(to_lang=\"ar\")\n",
    "translation = translator.translate(\"telangana\")\n",
    "translation"
   ]
  },
  {
   "cell_type": "markdown",
   "id": "135e3a10-650a-4768-aaa3-658e4b0c1b82",
   "metadata": {},
   "source": [
    "### Speech recognisation"
   ]
  },
  {
   "cell_type": "code",
   "execution_count": 18,
   "id": "bf090c17-ea89-4448-9741-92c3c2d18013",
   "metadata": {},
   "outputs": [
    {
     "name": "stdout",
     "output_type": "stream",
     "text": [
      "Collecting SpeechRecognition\n",
      "  Downloading SpeechRecognition-3.14.1-py3-none-any.whl.metadata (31 kB)\n",
      "Requirement already satisfied: typing-extensions in c:\\users\\karun\\anaconda3\\lib\\site-packages (from SpeechRecognition) (4.11.0)\n",
      "Downloading SpeechRecognition-3.14.1-py3-none-any.whl (32.9 MB)\n",
      "   ---------------------------------------- 0.0/32.9 MB ? eta -:--:--\n",
      "    --------------------------------------- 0.5/32.9 MB 8.5 MB/s eta 0:00:04\n",
      "   - -------------------------------------- 1.3/32.9 MB 4.2 MB/s eta 0:00:08\n",
      "   --- ------------------------------------ 2.6/32.9 MB 4.3 MB/s eta 0:00:08\n",
      "   ---- ----------------------------------- 3.7/32.9 MB 4.5 MB/s eta 0:00:07\n",
      "   ----- ---------------------------------- 4.7/32.9 MB 4.8 MB/s eta 0:00:06\n",
      "   ----- ---------------------------------- 4.7/32.9 MB 4.8 MB/s eta 0:00:06\n",
      "   ------ --------------------------------- 5.0/32.9 MB 3.4 MB/s eta 0:00:09\n",
      "   ------ --------------------------------- 5.5/32.9 MB 3.2 MB/s eta 0:00:09\n",
      "   ------ --------------------------------- 5.5/32.9 MB 3.2 MB/s eta 0:00:09\n",
      "   ------- -------------------------------- 5.8/32.9 MB 2.9 MB/s eta 0:00:10\n",
      "   ------- -------------------------------- 6.0/32.9 MB 2.6 MB/s eta 0:00:11\n",
      "   ------- -------------------------------- 6.0/32.9 MB 2.6 MB/s eta 0:00:11\n",
      "   ------- -------------------------------- 6.0/32.9 MB 2.6 MB/s eta 0:00:11\n",
      "   ------- -------------------------------- 6.0/32.9 MB 2.6 MB/s eta 0:00:11\n",
      "   ------- -------------------------------- 6.3/32.9 MB 2.0 MB/s eta 0:00:14\n",
      "   ------- -------------------------------- 6.6/32.9 MB 1.9 MB/s eta 0:00:14\n",
      "   -------- ------------------------------- 6.8/32.9 MB 1.9 MB/s eta 0:00:14\n",
      "   -------- ------------------------------- 6.8/32.9 MB 1.9 MB/s eta 0:00:14\n",
      "   -------- ------------------------------- 7.1/32.9 MB 1.7 MB/s eta 0:00:15\n",
      "   -------- ------------------------------- 7.1/32.9 MB 1.7 MB/s eta 0:00:15\n",
      "   -------- ------------------------------- 7.3/32.9 MB 1.6 MB/s eta 0:00:16\n",
      "   -------- ------------------------------- 7.3/32.9 MB 1.6 MB/s eta 0:00:16\n",
      "   --------- ------------------------------ 7.6/32.9 MB 1.5 MB/s eta 0:00:17\n",
      "   --------- ------------------------------ 7.6/32.9 MB 1.5 MB/s eta 0:00:17\n",
      "   --------- ------------------------------ 7.9/32.9 MB 1.4 MB/s eta 0:00:18\n",
      "   --------- ------------------------------ 7.9/32.9 MB 1.4 MB/s eta 0:00:18\n",
      "   --------- ------------------------------ 7.9/32.9 MB 1.4 MB/s eta 0:00:18\n",
      "   --------- ------------------------------ 8.1/32.9 MB 1.4 MB/s eta 0:00:19\n",
      "   ---------- ----------------------------- 8.4/32.9 MB 1.3 MB/s eta 0:00:19\n",
      "   ---------- ----------------------------- 8.4/32.9 MB 1.3 MB/s eta 0:00:19\n",
      "   ---------- ----------------------------- 8.7/32.9 MB 1.3 MB/s eta 0:00:19\n",
      "   ---------- ----------------------------- 8.9/32.9 MB 1.3 MB/s eta 0:00:19\n",
      "   ---------- ----------------------------- 8.9/32.9 MB 1.3 MB/s eta 0:00:19\n",
      "   ----------- ---------------------------- 9.2/32.9 MB 1.3 MB/s eta 0:00:19\n",
      "   ----------- ---------------------------- 9.4/32.9 MB 1.2 MB/s eta 0:00:19\n",
      "   ----------- ---------------------------- 9.4/32.9 MB 1.2 MB/s eta 0:00:19\n",
      "   ----------- ---------------------------- 9.4/32.9 MB 1.2 MB/s eta 0:00:19\n",
      "   ----------- ---------------------------- 9.7/32.9 MB 1.2 MB/s eta 0:00:20\n",
      "   ------------ --------------------------- 10.0/32.9 MB 1.2 MB/s eta 0:00:20\n",
      "   ------------ --------------------------- 10.2/32.9 MB 1.2 MB/s eta 0:00:19\n",
      "   ------------ --------------------------- 10.2/32.9 MB 1.2 MB/s eta 0:00:19\n",
      "   ------------ --------------------------- 10.5/32.9 MB 1.2 MB/s eta 0:00:20\n",
      "   ------------- -------------------------- 10.7/32.9 MB 1.2 MB/s eta 0:00:20\n",
      "   ------------- -------------------------- 10.7/32.9 MB 1.2 MB/s eta 0:00:20\n",
      "   ------------- -------------------------- 11.0/32.9 MB 1.1 MB/s eta 0:00:20\n",
      "   ------------- -------------------------- 11.3/32.9 MB 1.1 MB/s eta 0:00:20\n",
      "   ------------- -------------------------- 11.3/32.9 MB 1.1 MB/s eta 0:00:20\n",
      "   -------------- ------------------------- 11.5/32.9 MB 1.1 MB/s eta 0:00:20\n",
      "   -------------- ------------------------- 11.8/32.9 MB 1.1 MB/s eta 0:00:19\n",
      "   -------------- ------------------------- 11.8/32.9 MB 1.1 MB/s eta 0:00:19\n",
      "   -------------- ------------------------- 12.1/32.9 MB 1.1 MB/s eta 0:00:19\n",
      "   --------------- ------------------------ 12.3/32.9 MB 1.1 MB/s eta 0:00:19\n",
      "   --------------- ------------------------ 12.6/32.9 MB 1.1 MB/s eta 0:00:19\n",
      "   --------------- ------------------------ 12.6/32.9 MB 1.1 MB/s eta 0:00:19\n",
      "   --------------- ------------------------ 12.8/32.9 MB 1.1 MB/s eta 0:00:19\n",
      "   --------------- ------------------------ 13.1/32.9 MB 1.1 MB/s eta 0:00:19\n",
      "   ---------------- ----------------------- 13.4/32.9 MB 1.1 MB/s eta 0:00:18\n",
      "   ---------------- ----------------------- 13.6/32.9 MB 1.1 MB/s eta 0:00:18\n",
      "   ---------------- ----------------------- 13.6/32.9 MB 1.1 MB/s eta 0:00:18\n",
      "   ---------------- ----------------------- 13.9/32.9 MB 1.1 MB/s eta 0:00:18\n",
      "   ---------------- ----------------------- 13.9/32.9 MB 1.1 MB/s eta 0:00:18\n",
      "   ----------------- ---------------------- 14.2/32.9 MB 1.1 MB/s eta 0:00:18\n",
      "   ----------------- ---------------------- 14.2/32.9 MB 1.1 MB/s eta 0:00:18\n",
      "   ----------------- ---------------------- 14.4/32.9 MB 1.1 MB/s eta 0:00:18\n",
      "   ------------------ --------------------- 14.9/32.9 MB 1.1 MB/s eta 0:00:17\n",
      "   ------------------ --------------------- 15.2/32.9 MB 1.1 MB/s eta 0:00:17\n",
      "   ------------------ --------------------- 15.2/32.9 MB 1.1 MB/s eta 0:00:17\n",
      "   ------------------ --------------------- 15.5/32.9 MB 1.1 MB/s eta 0:00:17\n",
      "   ------------------ --------------------- 15.5/32.9 MB 1.1 MB/s eta 0:00:17\n",
      "   ------------------- -------------------- 15.7/32.9 MB 1.0 MB/s eta 0:00:17\n",
      "   ------------------- -------------------- 16.0/32.9 MB 1.0 MB/s eta 0:00:17\n",
      "   ------------------- -------------------- 16.0/32.9 MB 1.0 MB/s eta 0:00:17\n",
      "   ------------------- -------------------- 16.3/32.9 MB 1.0 MB/s eta 0:00:16\n",
      "   -------------------- ------------------- 16.5/32.9 MB 1.0 MB/s eta 0:00:16\n",
      "   -------------------- ------------------- 16.8/32.9 MB 1.0 MB/s eta 0:00:16\n",
      "   -------------------- ------------------- 17.0/32.9 MB 1.0 MB/s eta 0:00:16\n",
      "   --------------------- ------------------ 17.3/32.9 MB 1.0 MB/s eta 0:00:15\n",
      "   --------------------- ------------------ 17.6/32.9 MB 1.0 MB/s eta 0:00:15\n",
      "   ---------------------- ----------------- 18.1/32.9 MB 1.1 MB/s eta 0:00:14\n",
      "   ---------------------- ----------------- 18.4/32.9 MB 1.1 MB/s eta 0:00:14\n",
      "   ---------------------- ----------------- 18.6/32.9 MB 1.1 MB/s eta 0:00:14\n",
      "   ---------------------- ----------------- 18.9/32.9 MB 1.1 MB/s eta 0:00:14\n",
      "   ----------------------- ---------------- 19.1/32.9 MB 1.1 MB/s eta 0:00:13\n",
      "   ----------------------- ---------------- 19.4/32.9 MB 1.1 MB/s eta 0:00:13\n",
      "   ----------------------- ---------------- 19.7/32.9 MB 1.1 MB/s eta 0:00:13\n",
      "   ------------------------ --------------- 19.9/32.9 MB 1.1 MB/s eta 0:00:13\n",
      "   ------------------------ --------------- 20.2/32.9 MB 1.1 MB/s eta 0:00:12\n",
      "   ------------------------- -------------- 20.7/32.9 MB 1.1 MB/s eta 0:00:12\n",
      "   ------------------------- -------------- 21.0/32.9 MB 1.1 MB/s eta 0:00:11\n",
      "   -------------------------- ------------- 21.5/32.9 MB 1.1 MB/s eta 0:00:11\n",
      "   -------------------------- ------------- 21.8/32.9 MB 1.1 MB/s eta 0:00:11\n",
      "   -------------------------- ------------- 22.0/32.9 MB 1.1 MB/s eta 0:00:10\n",
      "   --------------------------- ------------ 22.3/32.9 MB 1.1 MB/s eta 0:00:10\n",
      "   --------------------------- ------------ 22.8/32.9 MB 1.1 MB/s eta 0:00:09\n",
      "   ---------------------------- ----------- 23.1/32.9 MB 1.1 MB/s eta 0:00:09\n",
      "   ---------------------------- ----------- 23.6/32.9 MB 1.1 MB/s eta 0:00:09\n",
      "   ----------------------------- ---------- 23.9/32.9 MB 1.1 MB/s eta 0:00:08\n",
      "   ----------------------------- ---------- 24.1/32.9 MB 1.1 MB/s eta 0:00:08\n",
      "   ------------------------------ --------- 24.6/32.9 MB 1.2 MB/s eta 0:00:08\n",
      "   ------------------------------ --------- 24.6/32.9 MB 1.2 MB/s eta 0:00:08\n",
      "   ------------------------------ --------- 24.9/32.9 MB 1.1 MB/s eta 0:00:07\n",
      "   ------------------------------ --------- 24.9/32.9 MB 1.1 MB/s eta 0:00:07\n",
      "   ------------------------------ --------- 24.9/32.9 MB 1.1 MB/s eta 0:00:07\n",
      "   ------------------------------ --------- 24.9/32.9 MB 1.1 MB/s eta 0:00:07\n",
      "   ------------------------------ --------- 25.2/32.9 MB 1.1 MB/s eta 0:00:07\n",
      "   ------------------------------ --------- 25.2/32.9 MB 1.1 MB/s eta 0:00:07\n",
      "   ------------------------------ --------- 25.4/32.9 MB 1.1 MB/s eta 0:00:07\n",
      "   ------------------------------- -------- 25.7/32.9 MB 1.1 MB/s eta 0:00:07\n",
      "   ------------------------------- -------- 25.7/32.9 MB 1.1 MB/s eta 0:00:07\n",
      "   ------------------------------- -------- 25.7/32.9 MB 1.1 MB/s eta 0:00:07\n",
      "   ------------------------------- -------- 26.0/32.9 MB 1.1 MB/s eta 0:00:07\n",
      "   -------------------------------- ------- 26.5/32.9 MB 1.1 MB/s eta 0:00:06\n",
      "   -------------------------------- ------- 26.7/32.9 MB 1.1 MB/s eta 0:00:06\n",
      "   -------------------------------- ------- 27.0/32.9 MB 1.1 MB/s eta 0:00:06\n",
      "   --------------------------------- ------ 27.3/32.9 MB 1.1 MB/s eta 0:00:06\n",
      "   --------------------------------- ------ 27.5/32.9 MB 1.1 MB/s eta 0:00:05\n",
      "   --------------------------------- ------ 27.8/32.9 MB 1.1 MB/s eta 0:00:05\n",
      "   --------------------------------- ------ 27.8/32.9 MB 1.1 MB/s eta 0:00:05\n",
      "   ---------------------------------- ----- 28.0/32.9 MB 1.1 MB/s eta 0:00:05\n",
      "   ---------------------------------- ----- 28.6/32.9 MB 1.1 MB/s eta 0:00:04\n",
      "   ----------------------------------- ---- 28.8/32.9 MB 1.1 MB/s eta 0:00:04\n",
      "   ----------------------------------- ---- 28.8/32.9 MB 1.1 MB/s eta 0:00:04\n",
      "   ----------------------------------- ---- 29.4/32.9 MB 1.1 MB/s eta 0:00:04\n",
      "   ----------------------------------- ---- 29.4/32.9 MB 1.1 MB/s eta 0:00:04\n",
      "   ------------------------------------ --- 29.6/32.9 MB 1.1 MB/s eta 0:00:03\n",
      "   ------------------------------------ --- 29.6/32.9 MB 1.1 MB/s eta 0:00:03\n",
      "   ------------------------------------ --- 29.9/32.9 MB 1.1 MB/s eta 0:00:03\n",
      "   ------------------------------------ --- 30.1/32.9 MB 1.1 MB/s eta 0:00:03\n",
      "   ------------------------------------ --- 30.1/32.9 MB 1.1 MB/s eta 0:00:03\n",
      "   ------------------------------------ --- 30.1/32.9 MB 1.1 MB/s eta 0:00:03\n",
      "   ------------------------------------- -- 30.4/32.9 MB 1.1 MB/s eta 0:00:03\n",
      "   ------------------------------------- -- 30.4/32.9 MB 1.1 MB/s eta 0:00:03\n",
      "   ------------------------------------- -- 30.7/32.9 MB 1.1 MB/s eta 0:00:03\n",
      "   ------------------------------------- -- 30.7/32.9 MB 1.1 MB/s eta 0:00:03\n",
      "   ------------------------------------- -- 30.7/32.9 MB 1.1 MB/s eta 0:00:03\n",
      "   ------------------------------------- -- 30.9/32.9 MB 1.1 MB/s eta 0:00:02\n",
      "   ------------------------------------- -- 31.2/32.9 MB 1.1 MB/s eta 0:00:02\n",
      "   -------------------------------------- - 31.5/32.9 MB 1.1 MB/s eta 0:00:02\n",
      "   -------------------------------------- - 31.5/32.9 MB 1.1 MB/s eta 0:00:02\n",
      "   -------------------------------------- - 31.5/32.9 MB 1.1 MB/s eta 0:00:02\n",
      "   -------------------------------------- - 31.7/32.9 MB 1.0 MB/s eta 0:00:02\n",
      "   -------------------------------------- - 31.7/32.9 MB 1.0 MB/s eta 0:00:02\n",
      "   -------------------------------------- - 31.7/32.9 MB 1.0 MB/s eta 0:00:02\n",
      "   -------------------------------------- - 31.7/32.9 MB 1.0 MB/s eta 0:00:02\n",
      "   -------------------------------------- - 32.0/32.9 MB 909.7 kB/s eta 0:00:01\n",
      "   -------------------------------------- - 32.0/32.9 MB 909.7 kB/s eta 0:00:01\n",
      "   -------------------------------------- - 32.0/32.9 MB 909.7 kB/s eta 0:00:01\n",
      "   -------------------------------------- - 32.0/32.9 MB 909.7 kB/s eta 0:00:01\n",
      "   -------------------------------------- - 32.0/32.9 MB 909.7 kB/s eta 0:00:01\n",
      "   -------------------------------------- - 32.0/32.9 MB 909.7 kB/s eta 0:00:01\n",
      "   -------------------------------------- - 32.0/32.9 MB 909.7 kB/s eta 0:00:01\n",
      "   -------------------------------------- - 32.0/32.9 MB 909.7 kB/s eta 0:00:01\n",
      "   -------------------------------------- - 32.0/32.9 MB 909.7 kB/s eta 0:00:01\n",
      "   -------------------------------------- - 32.0/32.9 MB 909.7 kB/s eta 0:00:01\n",
      "   ---------------------------------------  32.2/32.9 MB 861.3 kB/s eta 0:00:01\n",
      "   ---------------------------------------  32.2/32.9 MB 861.3 kB/s eta 0:00:01\n",
      "   ---------------------------------------  32.2/32.9 MB 861.3 kB/s eta 0:00:01\n",
      "   ---------------------------------------  32.2/32.9 MB 861.3 kB/s eta 0:00:01\n",
      "   ---------------------------------------  32.2/32.9 MB 861.3 kB/s eta 0:00:01\n",
      "   ---------------------------------------  32.5/32.9 MB 843.2 kB/s eta 0:00:01\n",
      "   ---------------------------------------  32.5/32.9 MB 843.2 kB/s eta 0:00:01\n",
      "   ---------------------------------------  32.5/32.9 MB 843.2 kB/s eta 0:00:01\n",
      "   ---------------------------------------  32.8/32.9 MB 840.6 kB/s eta 0:00:01\n",
      "   ---------------------------------------  32.8/32.9 MB 840.6 kB/s eta 0:00:01\n",
      "   ---------------------------------------- 32.9/32.9 MB 834.3 kB/s eta 0:00:00\n",
      "Installing collected packages: SpeechRecognition\n",
      "Successfully installed SpeechRecognition-3.14.1\n"
     ]
    }
   ],
   "source": [
    "!pip install SpeechRecognition"
   ]
  },
  {
   "cell_type": "code",
   "execution_count": 19,
   "id": "b3e072e9-bf4a-4374-a4e9-3cb32572ed31",
   "metadata": {},
   "outputs": [
    {
     "name": "stdout",
     "output_type": "stream",
     "text": [
      "Collecting PyAudio\n",
      "  Downloading PyAudio-0.2.14-cp312-cp312-win_amd64.whl.metadata (2.7 kB)\n",
      "Downloading PyAudio-0.2.14-cp312-cp312-win_amd64.whl (164 kB)\n",
      "Installing collected packages: PyAudio\n",
      "Successfully installed PyAudio-0.2.14\n"
     ]
    }
   ],
   "source": [
    "!pip install PyAudio"
   ]
  },
  {
   "cell_type": "code",
   "execution_count": 22,
   "id": "bc09f225-5aa5-4d3f-b0e4-eeca15b63fd3",
   "metadata": {},
   "outputs": [
    {
     "name": "stdout",
     "output_type": "stream",
     "text": [
      "Please say something\n",
      "I think you said: hi I love you\n"
     ]
    }
   ],
   "source": [
    "import speech_recognition as sr\n",
    "r=sr.Recognizer()\n",
    "with sr.Microphone() as source:\n",
    "    print(\"Please say something\")\n",
    "    audio = r.listen(source)\n",
    "    #print(\"Time over, thanks\")\n",
    "try:\n",
    "    print(\"I think you said: \"+r.recognize_google(audio));\n",
    "except:\n",
    "    pass"
   ]
  },
  {
   "cell_type": "code",
   "execution_count": null,
   "id": "4cd7b9e2-8103-4389-a577-2a15d1a94576",
   "metadata": {},
   "outputs": [],
   "source": []
  }
 ],
 "metadata": {
  "kernelspec": {
   "display_name": "Python 3 (ipykernel)",
   "language": "python",
   "name": "python3"
  },
  "language_info": {
   "codemirror_mode": {
    "name": "ipython",
    "version": 3
   },
   "file_extension": ".py",
   "mimetype": "text/x-python",
   "name": "python",
   "nbconvert_exporter": "python",
   "pygments_lexer": "ipython3",
   "version": "3.12.7"
  }
 },
 "nbformat": 4,
 "nbformat_minor": 5
}
