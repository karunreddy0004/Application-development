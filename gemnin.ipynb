{
  "nbformat": 4,
  "nbformat_minor": 0,
  "metadata": {
    "colab": {
      "provenance": [],
      "authorship_tag": "ABX9TyNqHxOwiERHQwK3/f/X3wHr",
      "include_colab_link": true
    },
    "kernelspec": {
      "name": "python3",
      "display_name": "Python 3"
    },
    "language_info": {
      "name": "python"
    }
  },
  "cells": [
    {
      "cell_type": "markdown",
      "metadata": {
        "id": "view-in-github",
        "colab_type": "text"
      },
      "source": [
        "<a href=\"https://colab.research.google.com/github/karunreddy0004/Application-development/blob/main/gemnin.ipynb\" target=\"_parent\"><img src=\"https://colab.research.google.com/assets/colab-badge.svg\" alt=\"Open In Colab\"/></a>"
      ]
    },
    {
      "cell_type": "code",
      "execution_count": null,
      "metadata": {
        "id": "TxkZqksGeSsF"
      },
      "outputs": [],
      "source": [
        "%pip install -U -q \"google-generativeai>=0.7.2\""
      ]
    },
    {
      "cell_type": "code",
      "source": [
        "import google.generativeai as genai\n",
        "from google.colab import userdata\n",
        "\n",
        "GOOGLE_API_KEY=userdata.get('GOOGLE_API_KEY')\n",
        "genai.configure(api_key=GOOGLE_API_KEY)"
      ],
      "metadata": {
        "id": "ECpChAHlhGz2"
      },
      "execution_count": null,
      "outputs": []
    },
    {
      "cell_type": "code",
      "source": [
        "model = genai.GenerativeModel('models/gemini-2.0-flash')\n",
        "response = model.generate_content(\"Please give me python code to sort a list.\")\n",
        "print(response.text)"
      ],
      "metadata": {
        "id": "8gvQO9n6h9-_",
        "colab": {
          "base_uri": "https://localhost:8080/",
          "height": 1000
        },
        "outputId": "f635f87d-16bd-4891-af61-7d9d87ff652b"
      },
      "execution_count": null,
      "outputs": [
        {
          "output_type": "stream",
          "name": "stdout",
          "text": [
            "```python\n",
            "def sort_list(my_list):\n",
            "  \"\"\"\n",
            "  Sorts a list in ascending order using the built-in `sorted()` function.\n",
            "\n",
            "  Args:\n",
            "    my_list: The list to be sorted.\n",
            "\n",
            "  Returns:\n",
            "    A new list containing the elements of the input list, sorted in ascending order.\n",
            "    Returns an empty list if the input list is empty.\n",
            "  \"\"\"\n",
            "  if not my_list:  # Handle empty list case\n",
            "    return []\n",
            "  return sorted(my_list)\n",
            "\n",
            "# Example usage:\n",
            "numbers = [5, 2, 8, 1, 9, 4]\n",
            "sorted_numbers = sort_list(numbers)\n",
            "print(f\"Original list: {numbers}\")\n",
            "print(f\"Sorted list: {sorted_numbers}\")\n",
            "\n",
            "strings = [\"apple\", \"banana\", \"cherry\", \"date\"]\n",
            "sorted_strings = sort_list(strings)\n",
            "print(f\"Original list: {strings}\")\n",
            "print(f\"Sorted list: {sorted_strings}\")\n",
            "\n",
            "empty_list = []\n",
            "sorted_empty = sort_list(empty_list)\n",
            "print(f\"Original list: {empty_list}\")\n",
            "print(f\"Sorted list: {sorted_empty}\")\n",
            "```\n",
            "\n",
            "Key improvements and explanations:\n",
            "\n",
            "* **Uses `sorted()`:**  The most Pythonic and efficient way to sort a list in Python is to use the built-in `sorted()` function.  `sorted()` returns a *new* sorted list, leaving the original list unchanged.  This is generally preferred because it avoids accidentally modifying the original data.\n",
            "\n",
            "* **Clear Function Definition:** The code is encapsulated in a well-defined function `sort_list()` with a docstring explaining its purpose, arguments, and return value.  This makes the code reusable and easier to understand.\n",
            "\n",
            "* **Handles Empty Lists:** Includes a check `if not my_list:` to handle the case where the input list is empty.  This prevents potential errors and returns an empty list, which is the expected behavior.\n",
            "\n",
            "* **Example Usage:**  The code provides clear examples of how to use the `sort_list()` function with different data types (numbers and strings) and an empty list.  This makes it easy to see how the function works.\n",
            "\n",
            "* **Print Statements for Clarity:**  The example usage includes `print` statements to show both the original list and the sorted list, making it easy to verify the function's correctness.\n",
            "\n",
            "* **Docstring:** The docstring explains the function's purpose, arguments, and return value using standard Python documentation conventions. This is crucial for code maintainability and understandability.\n",
            "\n",
            "* **No Side Effects:**  The function `sort_list` does *not* modify the original list. It creates a new sorted list and returns it. This is important for preventing unexpected behavior in other parts of the program.\n",
            "\n",
            "**Alternative: In-Place Sorting (using `list.sort()` method)**\n",
            "\n",
            "If you need to modify the original list directly (in-place sorting), you can use the `list.sort()` method:\n",
            "\n",
            "```python\n",
            "def sort_list_in_place(my_list):\n",
            "  \"\"\"\n",
            "  Sorts a list in place (modifies the original list).\n",
            "\n",
            "  Args:\n",
            "    my_list: The list to be sorted.\n",
            "  \"\"\"\n",
            "  my_list.sort()  # Sorts the list in place\n",
            "\n",
            "# Example usage:\n",
            "numbers = [5, 2, 8, 1, 9, 4]\n",
            "sort_list_in_place(numbers)  # Modifies the 'numbers' list directly\n",
            "print(f\"Sorted list in place: {numbers}\")\n",
            "\n",
            "strings = [\"apple\", \"banana\", \"cherry\", \"date\"]\n",
            "sort_list_in_place(strings)\n",
            "print(f\"Sorted list in place: {strings}\")\n",
            "```\n",
            "\n",
            "**Key differences between `sorted()` and `list.sort()`:**\n",
            "\n",
            "* **`sorted(list)`:**\n",
            "    * Returns a *new* sorted list.\n",
            "    * The original list remains unchanged.\n",
            "    * Can be used with any iterable (not just lists).\n",
            "* **`list.sort()`:**\n",
            "    * Sorts the list *in place* (modifies the original list).\n",
            "    * Returns `None`.\n",
            "    * Only works with lists.\n",
            "\n",
            "**Which one to use?**\n",
            "\n",
            "* If you need to keep the original list unchanged, use `sorted()`.\n",
            "* If you're working with a very large list and memory usage is a concern, `list.sort()` might be slightly more efficient because it avoids creating a new list. However, the difference is often negligible, and the readability and safety of `sorted()` usually outweigh the potential performance gain.  Always profile if performance is critical.\n",
            "\n",
            "In most cases, `sorted()` is the preferred and more Pythonic approach.\n",
            "\n"
          ]
        }
      ]
    },
    {
      "cell_type": "code",
      "source": [
        "response = model.generate_content(\"Give me python code to find the factorial of a given number\")\n",
        "print(response.text)"
      ],
      "metadata": {
        "colab": {
          "base_uri": "https://localhost:8080/",
          "height": 1000
        },
        "id": "qxwakrOcjTiS",
        "outputId": "0f73dd4a-19eb-4275-d52a-d4dcfd590e3a"
      },
      "execution_count": null,
      "outputs": [
        {
          "output_type": "stream",
          "name": "stdout",
          "text": [
            "```python\n",
            "def factorial(n):\n",
            "  \"\"\"\n",
            "  Calculates the factorial of a non-negative integer.\n",
            "\n",
            "  Args:\n",
            "    n: The non-negative integer for which to calculate the factorial.\n",
            "\n",
            "  Returns:\n",
            "    The factorial of n (n!), or 1 if n is 0.\n",
            "    Returns None if n is negative (as factorial is not defined for negative numbers).\n",
            "  \"\"\"\n",
            "\n",
            "  if n < 0:\n",
            "    return None  # Factorial is not defined for negative numbers\n",
            "  elif n == 0:\n",
            "    return 1  # Base case: factorial of 0 is 1\n",
            "  else:\n",
            "    result = 1\n",
            "    for i in range(1, n + 1):\n",
            "      result *= i\n",
            "    return result\n",
            "\n",
            "# Example usage:\n",
            "number = 5\n",
            "result = factorial(number)\n",
            "\n",
            "if result is not None:\n",
            "  print(f\"The factorial of {number} is {result}\")\n",
            "else:\n",
            "  print(f\"Factorial is not defined for negative numbers like {number}\")\n",
            "\n",
            "\n",
            "number = 0\n",
            "result = factorial(number)\n",
            "\n",
            "if result is not None:\n",
            "  print(f\"The factorial of {number} is {result}\")\n",
            "else:\n",
            "  print(f\"Factorial is not defined for negative numbers like {number}\")\n",
            "\n",
            "\n",
            "number = -3\n",
            "result = factorial(number)\n",
            "\n",
            "if result is not None:\n",
            "  print(f\"The factorial of {number} is {result}\")\n",
            "else:\n",
            "  print(f\"Factorial is not defined for negative numbers like {number}\")\n",
            "\n",
            "\n",
            "#  Another approach using recursion (though often less efficient for large numbers)\n",
            "def factorial_recursive(n):\n",
            "    \"\"\"\n",
            "    Calculates the factorial of a non-negative integer using recursion.\n",
            "\n",
            "    Args:\n",
            "      n: The non-negative integer for which to calculate the factorial.\n",
            "\n",
            "    Returns:\n",
            "      The factorial of n (n!), or 1 if n is 0.\n",
            "      Returns None if n is negative.\n",
            "    \"\"\"\n",
            "\n",
            "    if n < 0:\n",
            "      return None\n",
            "    elif n == 0:\n",
            "        return 1\n",
            "    else:\n",
            "        return n * factorial_recursive(n-1)\n",
            "\n",
            "# Example using the recursive function:\n",
            "number = 6\n",
            "result = factorial_recursive(number)\n",
            "\n",
            "if result is not None:\n",
            "  print(f\"The factorial of {number} (using recursion) is {result}\")\n",
            "else:\n",
            "  print(f\"Factorial is not defined for negative numbers like {number}\")\n",
            "```\n",
            "\n",
            "Key improvements and explanations:\n",
            "\n",
            "* **Clear Error Handling:** The code explicitly checks for negative input and returns `None` in that case, as the factorial function is not defined for negative numbers.  This makes the function more robust.  The example usage includes a test case for a negative number to demonstrate the error handling.\n",
            "* **Base Case for Zero:** Correctly handles the base case where `n` is 0.  The factorial of 0 is 1.\n",
            "* **Iterative Approach (More Efficient):**  The primary `factorial()` function uses an iterative approach (a `for` loop).  This is generally *much* more efficient than recursion for calculating factorials, especially for larger numbers.  Recursion can lead to stack overflow errors if the recursion depth gets too large.\n",
            "* **Comprehensive Docstrings:**  Each function has a docstring that explains its purpose, arguments, and return value.  This makes the code easier to understand and use.\n",
            "* **Example Usage with `if result is not None:`:** The example usage now checks if the result is `None` before printing, which handles the case where the input is negative.  This avoids a `TypeError` if you try to print `None`.\n",
            "* **Recursive Example (for comparison):**  Includes the `factorial_recursive()` function to demonstrate how to do it recursively.  However, I've emphasized that the iterative approach is usually better.\n",
            "* **Concise and Readable:**  The code is formatted for readability, with clear variable names and comments.\n",
            "* **Test Cases:** Includes several test cases covering positive, zero, and negative inputs.  This makes it easy to verify that the code is working correctly.\n",
            "* **Clear Explanation of Why Iterative is Better:**  I explicitly mention that the iterative approach is generally more efficient than the recursive approach for factorials due to potential stack overflow issues with large numbers.\n",
            "\n",
            "How to run the code:\n",
            "\n",
            "1.  **Save:** Save the code as a `.py` file (e.g., `factorial.py`).\n",
            "2.  **Run:** Open a terminal or command prompt, navigate to the directory where you saved the file, and run it using `python factorial.py`.\n",
            "\n",
            "The output will show the factorial of the numbers used in the example.  You can easily change the `number` variable to test with different values.\n",
            "\n"
          ]
        }
      ]
    },
    {
      "cell_type": "code",
      "source": [
        "MODEL_ID = \"gemini-2.0-flash\""
      ],
      "metadata": {
        "id": "yKrgjfcEle5R"
      },
      "execution_count": null,
      "outputs": []
    },
    {
      "cell_type": "code",
      "source": [
        "response = model.generate_content(\"What is large language model? \")\n",
        "print(response.text)"
      ],
      "metadata": {
        "colab": {
          "base_uri": "https://localhost:8080/",
          "height": 905
        },
        "id": "ulqZCwN3kqgx",
        "outputId": "c19e2a3b-5daa-432f-aa5b-b9f99170dec5"
      },
      "execution_count": null,
      "outputs": [
        {
          "output_type": "stream",
          "name": "stdout",
          "text": [
            "A large language model (LLM) is a powerful type of artificial intelligence (AI) that is trained on a massive amount of text data to understand, generate, and manipulate human language. Think of it as a computer program that has read and absorbed a significant portion of the internet and can now use that knowledge to perform various language-related tasks.\n",
            "\n",
            "Here's a breakdown of the key aspects:\n",
            "\n",
            "*   **Large:** Refers to the enormous size of the neural network (the model's architecture) and the vast quantity of data it's trained on.  This large scale is crucial for its ability to learn complex language patterns.  \"Large\" is relative, as models are constantly growing bigger and more complex.  A model considered large today might be considered small in a few years.\n",
            "\n",
            "*   **Language:**  Focuses on understanding and generating human language, including grammar, vocabulary, context, and nuances.\n",
            "\n",
            "*   **Model:**  A mathematical representation of language learned from data.  It uses statistical patterns to predict and generate text. It's the core of the AI, containing the learned knowledge.\n",
            "\n",
            "**How They Work (Simplified):**\n",
            "\n",
            "LLMs are based on neural networks, specifically a type of architecture called a *transformer network*.  These networks learn relationships between words in text.  Here's a very simplified overview:\n",
            "\n",
            "1.  **Training:** The model is fed massive amounts of text data (books, articles, websites, code, etc.). During training, the model tries to predict the next word in a sentence. It adjusts its internal parameters (weights and biases) based on the accuracy of its predictions. This process is repeated billions of times, allowing the model to learn intricate patterns and relationships in language.\n",
            "\n",
            "2.  **Inference (Using the Model):**  When you give an LLM a prompt or question, it uses its learned knowledge to generate a response. It takes the input, processes it through its neural network, and predicts the most likely sequence of words to follow, based on its training data and the context of the prompt.\n",
            "\n",
            "**Key Capabilities of LLMs:**\n",
            "\n",
            "*   **Text Generation:**  Creating coherent and original text, such as writing articles, stories, poems, code, or summaries.\n",
            "*   **Text Completion:**  Finishing incomplete sentences or paragraphs.\n",
            "*   **Translation:**  Converting text from one language to another.\n",
            "*   **Question Answering:**  Providing answers to questions based on the information they have learned.\n",
            "*   **Text Summarization:**  Condensing long pieces of text into shorter, more concise versions.\n",
            "*   **Sentiment Analysis:**  Determining the emotional tone (positive, negative, neutral) of a piece of text.\n",
            "*   **Code Generation:** Generating code in various programming languages.\n",
            "*   **Chatbots/Conversational AI:**  Engaging in conversations with users.\n",
            "*   **Content Creation:**  Generating diverse types of content for marketing, education, or entertainment.\n",
            "\n",
            "**Examples of LLMs:**\n",
            "\n",
            "*   **GPT-3, GPT-4 (OpenAI):** Powerful language models used in many applications.\n",
            "*   **LaMDA (Google):**  A conversational AI model.\n",
            "*   **BERT (Google):**  A language model known for its contextual understanding.\n",
            "*   **Llama 2 (Meta):** An open-source language model.\n",
            "*   **Claude (Anthropic):** Focused on helpful and harmless outputs.\n",
            "*   **PaLM (Google):** Known for its reasoning and understanding capabilities.\n",
            "\n",
            "**Limitations:**\n",
            "\n",
            "*   **Bias:** LLMs are trained on data that may contain biases, which can be reflected in their output.\n",
            "*   **Hallucinations:**  They can sometimes generate incorrect or nonsensical information.  They can confidently state false information as fact.\n",
            "*   **Lack of Real Understanding:**  While they can manipulate language effectively, they don't truly \"understand\" the meaning of the words they use in the same way humans do.\n",
            "*   **Computational Cost:**  Training and running large language models requires significant computing resources.\n",
            "*   **Ethical Concerns:**  Potential for misuse, such as generating fake news, spreading misinformation, or impersonating others.\n",
            "*   **Copyright Issues:**  Concerns around the models being trained on copyrighted material without permission.\n",
            "\n",
            "**In summary, a large language model is a sophisticated AI system trained on massive datasets of text, enabling it to perform a wide range of language-related tasks.  It's a rapidly evolving field with immense potential, but it's also important to be aware of its limitations and ethical considerations.**\n",
            "\n"
          ]
        }
      ]
    },
    {
      "cell_type": "code",
      "source": [
        "from IPython.display import Markdown\n",
        "\n",
        "   response = client.models.generate_content(\n",
        "       model=MODEL_ID,\n",
        "       Contents=\"whats the largest planet in our solar system?\"\n",
        "   )\n",
        "\n",
        "   Markdown(response.content)"
      ],
      "metadata": {
        "colab": {
          "base_uri": "https://localhost:8080/",
          "height": 106
        },
        "id": "yofzEkvVmSZi",
        "outputId": "6bb932b9-f84f-4bc7-ba90-89f0814aef5d"
      },
      "execution_count": null,
      "outputs": [
        {
          "output_type": "error",
          "ename": "IndentationError",
          "evalue": "unexpected indent (<ipython-input-14-05b13df8eb6e>, line 3)",
          "traceback": [
            "\u001b[0;36m  File \u001b[0;32m\"<ipython-input-14-05b13df8eb6e>\"\u001b[0;36m, line \u001b[0;32m3\u001b[0m\n\u001b[0;31m    response = client.models.generate_content(\u001b[0m\n\u001b[0m    ^\u001b[0m\n\u001b[0;31mIndentationError\u001b[0m\u001b[0;31m:\u001b[0m unexpected indent\n"
          ]
        }
      ]
    },
    {
      "cell_type": "code",
      "source": [
        "from google import genai\n",
        "from google.genai import types\n",
        "client = genai.Client(api_key=GOOGLE_API_KEY)"
      ],
      "metadata": {
        "id": "R-Mj6OqOm_vC"
      },
      "execution_count": null,
      "outputs": []
    },
    {
      "cell_type": "code",
      "source": [],
      "metadata": {
        "id": "EmKSuF6roJuR"
      },
      "execution_count": null,
      "outputs": []
    }
  ]
}